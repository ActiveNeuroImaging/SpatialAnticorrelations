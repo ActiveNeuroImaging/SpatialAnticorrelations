{
 "cells": [
  {
   "cell_type": "code",
   "execution_count": 1,
   "id": "d353ae31",
   "metadata": {},
   "outputs": [
    {
     "name": "stdout",
     "output_type": "stream",
     "text": [
      "3.5.8\n"
     ]
    }
   ],
   "source": [
    "import rpy2\n",
    "print(rpy2.__version__)"
   ]
  },
  {
   "cell_type": "code",
   "execution_count": 2,
   "id": "cba9c31e",
   "metadata": {},
   "outputs": [
    {
     "name": "stderr",
     "output_type": "stream",
     "text": [
      "Warning: namespace ‘FRK’ is not available and has been replaced\n",
      "by .GlobalEnv when processing object ‘G’\n"
     ]
    }
   ],
   "source": [
    "from rpy2.robjects.packages import importr\n",
    "# import R's \"base\" package\n",
    "base = importr('base')\n",
    "\n",
    "# import R's \"utils\" package\n",
    "utils = importr('utils')\n",
    "\n",
    "# import rpy2's package module\n",
    "import rpy2.robjects.packages as rpackages\n",
    "\n",
    "# import R's utility package\n",
    "utils = rpackages.importr('utils')\n",
    "\n",
    "# select a mirror for R packages\n",
    "utils.chooseCRANmirror(ind=1) # select the first mirror in the list\n",
    "\n",
    "packnames = ('ggplot2', 'spam64')\n",
    "\n",
    "# R vector of strings\n",
    "from rpy2.robjects.vectors import StrVector\n",
    "\n",
    "# Selectively install what needs to be install.\n",
    "# We are fancy, just because we can.\n",
    "names_to_install = [x for x in packnames if not rpackages.isinstalled(x)]\n",
    "if len(names_to_install) > 0:\n",
    "    utils.install_packages(StrVector(names_to_install))"
   ]
  },
  {
   "cell_type": "code",
   "execution_count": null,
   "id": "e36a9c4a",
   "metadata": {},
   "outputs": [],
   "source": []
  },
  {
   "cell_type": "code",
   "execution_count": 5,
   "id": "98669eff",
   "metadata": {},
   "outputs": [
    {
     "name": "stderr",
     "output_type": "stream",
     "text": [
      "pixdim[1,2,3] should be non-zero; setting 0 dims to 1\n"
     ]
    }
   ],
   "source": [
    "\n",
    "\n",
    "import nibabel as nb\n",
    "import numpy as np\n",
    " \n",
    "# cifti code based on Christopher J Markiewicz https://nbviewer.jupyter.org/github/neurohackademy/nh2020-curriculum/blob/master/we-nibabel-markiewicz/NiBabel.ipynb\n",
    "# load cifti file containing the vertexwise values, in this case myelin map from the HCP\n",
    "cifti = nb.load('HCP_S900_787_tfMRI_ALLTASKS_level3_zstat1_hp200_s2_MSMSulc.dscalar.nii')\n",
    "cifti_data = cifti.get_fdata(dtype=np.float32)\n",
    "cifti_hdr = cifti.header\n",
    "nifti_hdr = cifti.nifti_header\n",
    "\n",
    "axes = [cifti_hdr.get_axis(i) for i in range(cifti.ndim)]\n",
    "\n",
    "def surf_data_from_cifti(data, axis, surf_name): \n",
    "    assert isinstance(axis, nb.cifti2.BrainModelAxis)\n",
    "    for name, data_indices, model in axis.iter_structures():  # Iterates over volumetric and surface structures\n",
    "        if name == surf_name:                                 # Just looking for a surface\n",
    "            data = data.T[data_indices]                       # Assume brainmodels axis is last, move it to front\n",
    "            vtx_indices = model.vertex                        # Generally 1-N, except medial wall vertices\n",
    "            surf_data = np.zeros((vtx_indices.max() + 1,) + data.shape[1:], dtype=data.dtype)\n",
    "            surf_data[vtx_indices] = data\n",
    "            return surf_data\n",
    "    raise ValueError(f\"No structure named {surf_name}\")\n",
    "\n",
    "left_brain=surf_data_from_cifti(cifti_data, axes[1], 'CIFTI_STRUCTURE_CORTEX_LEFT')\n",
    "left_brain=left_brain*-1 # Invert so we are looking at predicting from peaks of task negative\n",
    "\n",
    "gifti_img_BaseBrain = nb.load('S900.L.sphere.32k_fs_LR.surf.gii')\n",
    "\n",
    "xyz_points=gifti_img_BaseBrain.darrays[0].data\n",
    "\n",
    "\n",
    "\n"
   ]
  },
  {
   "cell_type": "code",
   "execution_count": 4,
   "id": "320c74e5",
   "metadata": {},
   "outputs": [],
   "source": [
    "import numpy as np\n",
    "\n",
    "def appendSpherical_np(xyz):\n",
    "    ptsnew = np.hstack((xyz, np.zeros(xyz.shape)))\n",
    "    \n",
    "    xy = xyz[:,0]**2 + xyz[:,1]**2\n",
    "    ptsnew[:,3] = np.sqrt(xy + xyz[:,2]**2)\n",
    "    #ptsnew[:,4] = np.arctan2(np.sqrt(xy), xyz[:,2]) # for elevation angle defined from Z-axis down\n",
    "    ptsnew[:,4] = np.arctan2(xyz[:,2], np.sqrt(xy)) # for elevation angle defined from XY-plane up\n",
    "    ptsnew[:,5] = np.arctan2(xyz[:,1], xyz[:,0])\n",
    "    return ptsnew\n",
    "\n",
    "ptsnew=appendSpherical_np(xyz_points)"
   ]
  },
  {
   "cell_type": "code",
   "execution_count": 2,
   "id": "46855d40",
   "metadata": {},
   "outputs": [
    {
     "name": "stderr",
     "output_type": "stream",
     "text": [
      "Warning: namespace ‘FRK’ is not available and has been replaced\n",
      "by .GlobalEnv when processing object ‘G’\n"
     ]
    },
    {
     "ename": "KeyboardInterrupt",
     "evalue": "",
     "output_type": "error",
     "traceback": [
      "\u001b[0;31m---------------------------------------------------------------------------\u001b[0m",
      "\u001b[0;31mKeyboardInterrupt\u001b[0m                         Traceback (most recent call last)",
      "\u001b[0;32m/var/folders/sf/n3ybtcn11h30c98lywmccxr80000gn/T/ipykernel_69415/712330186.py\u001b[0m in \u001b[0;36m<cell line: 2>\u001b[0;34m()\u001b[0m\n\u001b[1;32m      1\u001b[0m \u001b[0;32mimport\u001b[0m \u001b[0mnumpy\u001b[0m \u001b[0;32mas\u001b[0m \u001b[0mnp\u001b[0m\u001b[0;34m\u001b[0m\u001b[0;34m\u001b[0m\u001b[0m\n\u001b[0;32m----> 2\u001b[0;31m \u001b[0;32mfrom\u001b[0m \u001b[0mrpy2\u001b[0m\u001b[0;34m.\u001b[0m\u001b[0mrobjects\u001b[0m\u001b[0;34m.\u001b[0m\u001b[0mpackages\u001b[0m \u001b[0;32mimport\u001b[0m \u001b[0mimportr\u001b[0m\u001b[0;34m\u001b[0m\u001b[0;34m\u001b[0m\u001b[0m\n\u001b[0m\u001b[1;32m      3\u001b[0m \u001b[0;32mfrom\u001b[0m \u001b[0mrpy2\u001b[0m\u001b[0;34m.\u001b[0m\u001b[0mrobjects\u001b[0m \u001b[0;32mimport\u001b[0m \u001b[0mFloatVector\u001b[0m\u001b[0;34m\u001b[0m\u001b[0;34m\u001b[0m\u001b[0m\n\u001b[1;32m      4\u001b[0m \u001b[0;32mfrom\u001b[0m \u001b[0mrpy2\u001b[0m\u001b[0;34m.\u001b[0m\u001b[0mrobjects\u001b[0m \u001b[0;32mimport\u001b[0m \u001b[0mr\u001b[0m\u001b[0;34m,\u001b[0m \u001b[0mpandas2ri\u001b[0m\u001b[0;34m\u001b[0m\u001b[0;34m\u001b[0m\u001b[0m\n\u001b[1;32m      5\u001b[0m \u001b[0;32mimport\u001b[0m \u001b[0mpandas\u001b[0m \u001b[0;32mas\u001b[0m \u001b[0mpd\u001b[0m\u001b[0;34m\u001b[0m\u001b[0;34m\u001b[0m\u001b[0m\n",
      "\u001b[0;32m/opt/homebrew/lib/python3.9/site-packages/rpy2/robjects/__init__.py\u001b[0m in \u001b[0;36m<module>\u001b[0;34m\u001b[0m\n\u001b[1;32m     16\u001b[0m \u001b[0;32mimport\u001b[0m \u001b[0mrpy2\u001b[0m\u001b[0;34m.\u001b[0m\u001b[0mrlike\u001b[0m\u001b[0;34m.\u001b[0m\u001b[0mcontainer\u001b[0m \u001b[0;32mas\u001b[0m \u001b[0mrlc\u001b[0m\u001b[0;34m\u001b[0m\u001b[0;34m\u001b[0m\u001b[0m\n\u001b[1;32m     17\u001b[0m \u001b[0;34m\u001b[0m\u001b[0m\n\u001b[0;32m---> 18\u001b[0;31m \u001b[0;32mfrom\u001b[0m \u001b[0mrpy2\u001b[0m\u001b[0;34m.\u001b[0m\u001b[0mrobjects\u001b[0m\u001b[0;34m.\u001b[0m\u001b[0mrobject\u001b[0m \u001b[0;32mimport\u001b[0m \u001b[0mRObjectMixin\u001b[0m\u001b[0;34m,\u001b[0m \u001b[0mRObject\u001b[0m\u001b[0;34m\u001b[0m\u001b[0;34m\u001b[0m\u001b[0m\n\u001b[0m\u001b[1;32m     19\u001b[0m \u001b[0;32mimport\u001b[0m \u001b[0mrpy2\u001b[0m\u001b[0;34m.\u001b[0m\u001b[0mrobjects\u001b[0m\u001b[0;34m.\u001b[0m\u001b[0mfunctions\u001b[0m\u001b[0;34m\u001b[0m\u001b[0;34m\u001b[0m\u001b[0m\n\u001b[1;32m     20\u001b[0m from rpy2.robjects.environments import (Environment,\n",
      "\u001b[0;32m/opt/homebrew/lib/python3.9/site-packages/rpy2/robjects/robject.py\u001b[0m in \u001b[0;36m<module>\u001b[0;34m\u001b[0m\n\u001b[1;32m      9\u001b[0m \u001b[0;32mfrom\u001b[0m \u001b[0mrpy2\u001b[0m\u001b[0;34m.\u001b[0m\u001b[0mrobjects\u001b[0m \u001b[0;32mimport\u001b[0m \u001b[0mconversion\u001b[0m\u001b[0;34m\u001b[0m\u001b[0;34m\u001b[0m\u001b[0m\n\u001b[1;32m     10\u001b[0m \u001b[0;34m\u001b[0m\u001b[0m\n\u001b[0;32m---> 11\u001b[0;31m \u001b[0mrpy2\u001b[0m\u001b[0;34m.\u001b[0m\u001b[0mrinterface\u001b[0m\u001b[0;34m.\u001b[0m\u001b[0minitr_simple\u001b[0m\u001b[0;34m(\u001b[0m\u001b[0;34m)\u001b[0m\u001b[0;34m\u001b[0m\u001b[0;34m\u001b[0m\u001b[0m\n\u001b[0m\u001b[1;32m     12\u001b[0m \u001b[0;34m\u001b[0m\u001b[0m\n\u001b[1;32m     13\u001b[0m \u001b[0;34m\u001b[0m\u001b[0m\n",
      "\u001b[0;32m/opt/homebrew/lib/python3.9/site-packages/rpy2/rinterface.py\u001b[0m in \u001b[0;36minitr_simple\u001b[0;34m()\u001b[0m\n\u001b[1;32m    996\u001b[0m     \u001b[0;34m\"\"\"Initialize R's embedded C library.\"\"\"\u001b[0m\u001b[0;34m\u001b[0m\u001b[0;34m\u001b[0m\u001b[0m\n\u001b[1;32m    997\u001b[0m     \u001b[0;32mwith\u001b[0m \u001b[0mopenrlib\u001b[0m\u001b[0;34m.\u001b[0m\u001b[0mrlock\u001b[0m\u001b[0;34m:\u001b[0m\u001b[0;34m\u001b[0m\u001b[0;34m\u001b[0m\u001b[0m\n\u001b[0;32m--> 998\u001b[0;31m         \u001b[0mstatus\u001b[0m \u001b[0;34m=\u001b[0m \u001b[0membedded\u001b[0m\u001b[0;34m.\u001b[0m\u001b[0m_initr\u001b[0m\u001b[0;34m(\u001b[0m\u001b[0;34m)\u001b[0m\u001b[0;34m\u001b[0m\u001b[0;34m\u001b[0m\u001b[0m\n\u001b[0m\u001b[1;32m    999\u001b[0m         \u001b[0matexit\u001b[0m\u001b[0;34m.\u001b[0m\u001b[0mregister\u001b[0m\u001b[0;34m(\u001b[0m\u001b[0mendr\u001b[0m\u001b[0;34m,\u001b[0m \u001b[0;36m0\u001b[0m\u001b[0;34m)\u001b[0m\u001b[0;34m\u001b[0m\u001b[0;34m\u001b[0m\u001b[0m\n\u001b[1;32m   1000\u001b[0m         \u001b[0m_rinterface\u001b[0m\u001b[0;34m.\u001b[0m\u001b[0m_register_external_symbols\u001b[0m\u001b[0;34m(\u001b[0m\u001b[0;34m)\u001b[0m\u001b[0;34m\u001b[0m\u001b[0;34m\u001b[0m\u001b[0m\n",
      "\u001b[0;32m/opt/homebrew/lib/python3.9/site-packages/rpy2/rinterface_lib/embedded.py\u001b[0m in \u001b[0;36m_initr\u001b[0;34m(interactive, _want_setcallbacks, _c_stack_limit)\u001b[0m\n\u001b[1;32m    307\u001b[0m             \u001b[0mrlib\u001b[0m\u001b[0;34m.\u001b[0m\u001b[0mR_CStackLimit\u001b[0m \u001b[0;34m=\u001b[0m \u001b[0mffi\u001b[0m\u001b[0;34m.\u001b[0m\u001b[0mcast\u001b[0m\u001b[0;34m(\u001b[0m\u001b[0;34m'uintptr_t'\u001b[0m\u001b[0;34m,\u001b[0m \u001b[0m_c_stack_limit\u001b[0m\u001b[0;34m)\u001b[0m\u001b[0;34m\u001b[0m\u001b[0;34m\u001b[0m\u001b[0m\n\u001b[1;32m    308\u001b[0m         \u001b[0mrlib\u001b[0m\u001b[0;34m.\u001b[0m\u001b[0mR_Interactive\u001b[0m \u001b[0;34m=\u001b[0m \u001b[0;32mTrue\u001b[0m\u001b[0;34m\u001b[0m\u001b[0;34m\u001b[0m\u001b[0m\n\u001b[0;32m--> 309\u001b[0;31m         \u001b[0mrlib\u001b[0m\u001b[0;34m.\u001b[0m\u001b[0msetup_Rmainloop\u001b[0m\u001b[0;34m(\u001b[0m\u001b[0;34m)\u001b[0m\u001b[0;34m\u001b[0m\u001b[0;34m\u001b[0m\u001b[0m\n\u001b[0m\u001b[1;32m    310\u001b[0m \u001b[0;34m\u001b[0m\u001b[0m\n\u001b[1;32m    311\u001b[0m         \u001b[0m_setinitialized\u001b[0m\u001b[0;34m(\u001b[0m\u001b[0;34m)\u001b[0m\u001b[0;34m\u001b[0m\u001b[0;34m\u001b[0m\u001b[0m\n",
      "\u001b[0;31mKeyboardInterrupt\u001b[0m: "
     ]
    }
   ],
   "source": [
    "import numpy as np\n",
    "from rpy2.robjects.packages import importr\n",
    "from rpy2.robjects import FloatVector\n",
    "from rpy2.robjects import r, pandas2ri\n",
    "import pandas as pd\n",
    "import scipy\n",
    "from sklearn.neighbors import DistanceMetric\n",
    "from scipy import stats\n",
    "\n",
    "\n",
    "pandas2ri.activate()\n",
    "\n",
    "tasks=np.asarray([9,31,42,62,69,74,80])\n",
    "\n",
    "LKPredAllTasks=np.zeros([tasks.shape[0],tasks.shape[0]])\n",
    "LKPredAllTasksAlt=np.zeros([tasks.shape[0],tasks.shape[0]])\n",
    "\n",
    "\n",
    "LKPredAllTasksMinDist=np.zeros([tasks.shape[0],tasks.shape[0]])\n",
    "LKPredAllTasksAltMinDist=np.zeros([tasks.shape[0],tasks.shape[0]])\n",
    "\n",
    "LKPredAllTasksTNRestrict=np.zeros([tasks.shape[0],tasks.shape[0]])\n",
    "LKPredAllTasksTNRestrictAlt=np.zeros([tasks.shape[0],tasks.shape[0]])\n",
    "LKPredAllTasksTNRestrictAltDiff=np.zeros([tasks.shape[0],tasks.shape[0]])\n",
    "\n",
    "LKPredAllTasksTNeg=np.zeros([tasks.shape[0],tasks.shape[0]])\n",
    "LKPredAllTasksAltTNeg=np.zeros([tasks.shape[0],tasks.shape[0]])\n",
    "\n",
    "LKPredAllTasksTNegNotCore=np.zeros([tasks.shape[0],tasks.shape[0]])\n",
    "LKPredAllTasksAltTNegNotCore=np.zeros([tasks.shape[0],tasks.shape[0]])\n",
    "\n",
    "for u in range(tasks.shape[0]):\n",
    "    for v in range(tasks.shape[0]):\n",
    "        print(u)\n",
    "        #print(v)\n",
    "        #if u !=v: \n",
    "        tasksCompare=np.array([u,v])\n",
    "        NotZero1=np.abs(left_brain[:,tasks[tasksCompare[0]]])>0\n",
    "        NotZero2=np.abs(left_brain[:,tasks[tasksCompare[1]]])>0\n",
    "        threshTask1= np.percentile(left_brain[NotZero1,tasks[tasksCompare[0]]], 75, axis=0)\n",
    "        threshTask2= np.percentile(left_brain[NotZero2,tasks[tasksCompare[1]]], 75, axis=0)\n",
    "\n",
    "        pos_index=np.logical_and(left_brain[:,tasks[tasksCompare[0]]]>threshTask1,left_brain[:,tasks[tasksCompare[1]]]>threshTask2)\n",
    "        neg_index=np.logical_not(left_brain[:,tasks[tasksCompare[0]]]>threshTask1,left_brain[:,tasks[tasksCompare[1]]]>threshTask2)\n",
    "        \n",
    "        \n",
    "        task=tasks[tasksCompare[0]]\n",
    "\n",
    "        LK = importr('LatticeKrig')\n",
    "\n",
    "\n",
    "        X_temp=np.degrees(ptsnew[pos_index,4])\n",
    "\n",
    "        X1=FloatVector(X_temp[:])\n",
    "\n",
    "        X_temp=np.degrees(ptsnew[pos_index,5])\n",
    "\n",
    "        X2=FloatVector(X_temp[:])\n",
    "        Y_temp=left_brain[pos_index,task]\n",
    "\n",
    "        Y=FloatVector(Y_temp[:])\n",
    "\n",
    "        df = pd.DataFrame({'X1': X2, 'X2': X1})\n",
    "\n",
    "        r_dataframe = pandas2ri.py2rpy(df)\n",
    "\n",
    "\n",
    "        alpha=FloatVector(np.power([1,0.5,0.1],2))\n",
    "\n",
    "        LKinfo=LK.LKrigSetup(r_dataframe,startingLevel=3,nlevel=3,a_wght=1.01,alpha=alpha,LKGeometry=\"LKSphere\",Radius=100) \n",
    "\n",
    "        LKOutput=LK.LatticeKrig(r_dataframe,Y,LKinfo=LKinfo)\n",
    "\n",
    "        X1_all=FloatVector(np.degrees(ptsnew[:,4]))\n",
    "        X2_all=FloatVector(np.degrees(ptsnew[:,5]))\n",
    "        Y_all=FloatVector(left_brain[:,task])\n",
    "\n",
    "\n",
    "        df_all = pd.DataFrame({'X1': X2_all, 'X2': X1_all})\n",
    "\n",
    "        r_dataframe_all = pandas2ri.py2rpy(df_all)\n",
    "        tempPredict=r.predict(LKOutput,r_dataframe_all).ravel()\n",
    "        \n",
    "\n",
    "\n",
    "        dist = DistanceMetric.get_metric('haversine')\n",
    "        DistsToIncluded=dist.pairwise(ptsnew[pos_index,4:6],ptsnew[:,4:6])\n",
    "        MinDists=DistsToIncluded.min(axis=0)\n",
    "        LKPredAllTasks[u,v]=stats.spearmanr(tempPredict[np.logical_and(neg_index,MinDists>0.0)],left_brain[np.logical_and(neg_index,MinDists>0.0),tasks[u]])[0]\n",
    "        LKPredAllTasksAlt[u,v]=stats.spearmanr(tempPredict[np.logical_and(neg_index,MinDists>0.0)],left_brain[np.logical_and(neg_index,MinDists>0.0),tasks[v]])[0]\n",
    "        LKPredAllTasksMinDist[u,v]=stats.spearmanr(tempPredict[np.logical_and(neg_index,np.logical_and(MinDists>0.1,MinDists<1))],left_brain[np.logical_and(neg_index,np.logical_and(MinDists>0.1,MinDists<1)),tasks[u]])[0]\n",
    "        LKPredAllTasksAltMinDist[u,v]=stats.spearmanr(tempPredict[np.logical_and(neg_index,np.logical_and(MinDists>0.1,MinDists<1))],left_brain[np.logical_and(neg_index,np.logical_and(MinDists>0.1,MinDists<1)),tasks[v]])[0]\n",
    "     \n",
    "        LKPredAllTasksTNRestrict[u,v]=stats.spearmanr(tempPredict[left_brain[:,tasks[u]]<0],left_brain[left_brain[:,tasks[u]]<0,tasks[u]])[0]\n",
    "        LKPredAllTasksTNRestrictAlt[u,v]=stats.spearmanr(tempPredict[left_brain[:,tasks[u]]<0],left_brain[left_brain[:,tasks[u]]<0,tasks[v]])[0]\n",
    "        LKPredAllTasksTNRestrictAltDiff[u,v]=stats.spearmanr(tempPredict[left_brain[:,tasks[v]]<0],left_brain[left_brain[:,tasks[v]]<0,tasks[v]])[0]\n",
    "        \n",
    "        a=tempPredict[neg_index].ravel()<0\n",
    "        b=left_brain[neg_index,u].ravel()<0\n",
    "        c=left_brain[neg_index,v].ravel()<0\n",
    "        \n",
    "        \n",
    "        LKPredAllTasksTNeg[u,v]=np.logical_and(a,b).sum()\n",
    "        LKPredAllTasksAltTNeg[u,v]=np.logical_and(a,c).sum()\n",
    "        "
   ]
  },
  {
   "cell_type": "code",
   "execution_count": 8,
   "id": "1bc2278b",
   "metadata": {},
   "outputs": [
    {
     "data": {
      "image/png": "[encoded data removed]",
      "text/plain": [
       "<Figure size 576x576 with 1 Axes>"
      ]
     },
     "metadata": {},
     "output_type": "display_data"
    },
    {
     "data": {
      "image/png": "[encoded data removed]",
      "text/plain": [
       "<Figure size 576x576 with 1 Axes>"
      ]
     },
     "metadata": {},
     "output_type": "display_data"
    },
    {
     "data": {
      "image/png": "[encoded data removed]",
      "text/plain": [
       "<Figure size 576x576 with 1 Axes>"
      ]
     },
     "metadata": {},
     "output_type": "display_data"
    },
    {
     "name": "stdout",
     "output_type": "stream",
     "text": [
      "TtestResult(statistic=7.66013099637993, pvalue=1.9587428081901637e-09, df=41)\n",
      "tfMRI_WM_0BK\n",
      "TtestResult(statistic=2.2121899896193553, pvalue=0.03894478359178229, df=5)\n",
      "TtestResult(statistic=1.7936845869929885, pvalue=0.06641664292349941, df=5)\n",
      "TtestResult(statistic=1.933624928806241, pvalue=0.055486784961802045, df=5)\n",
      "tfMRI_GAMBLING_REWARD\n",
      "TtestResult(statistic=2.948424795199135, pvalue=0.015971777623585565, df=5)\n",
      "TtestResult(statistic=2.3309690895741295, pvalue=0.033565121853632, df=5)\n",
      "TtestResult(statistic=2.3732114947348575, pvalue=0.03184927631175473, df=5)\n",
      "tfMRI_MOTOR_AVG\n",
      "TtestResult(statistic=5.621572403316215, pvalue=0.0012330199388236936, df=5)\n",
      "TtestResult(statistic=4.195947453796907, pvalue=0.004261387683845383, df=5)\n",
      "TtestResult(statistic=5.191145279560561, pvalue=0.0017463510431444146, df=5)\n",
      "tfMRI_LANGUAGE_MATH\n",
      "TtestResult(statistic=1.1171195909128653, pvalue=0.15736412715508144, df=5)\n",
      "TtestResult(statistic=0.6141665038337824, pvalue=0.2829857047348694, df=5)\n",
      "TtestResult(statistic=0.8306548501678146, pvalue=0.22200504915848665, df=5)\n",
      "tfMRI_SOCIAL_TOM\n",
      "TtestResult(statistic=7.1108279182236185, pvalue=0.00042636958728518545, df=5)\n",
      "TtestResult(statistic=5.508275259940362, pvalue=0.0013486121131007734, df=5)\n",
      "TtestResult(statistic=5.241457025319115, pvalue=0.001674901674342676, df=5)\n",
      "tfMRI_RELATIONAL_MATCH\n",
      "TtestResult(statistic=4.269360514314781, pvalue=0.0039718058372953, df=5)\n",
      "TtestResult(statistic=3.6145109608338197, pvalue=0.007653803000255192, df=5)\n",
      "TtestResult(statistic=3.713194656362977, pvalue=0.00690455166737049, df=5)\n",
      "tfMRI_EMOTION_FACES\n",
      "TtestResult(statistic=3.1410060354865164, pvalue=0.012818639333784784, df=5)\n",
      "TtestResult(statistic=3.3779630948172663, pvalue=0.009858935717154866, df=5)\n",
      "TtestResult(statistic=3.22282910111821, pvalue=0.01169590428684064, df=5)\n"
     ]
    }
   ],
   "source": [
    "\n",
    "taskNames=np.loadtxt('TaskNames.txt',dtype=str,delimiter=',')\n",
    "\n",
    "\n",
    "import matplotlib.pyplot as plt\n",
    "\n",
    "fig = plt.figure(figsize=(8, 8))\n",
    "\n",
    "plt.pcolormesh((LKPredAllTasks-LKPredAllTasksAlt), edgecolors='k', linestyle='-',linewidth=1,vmin=-0.5,vmax=0.5,cmap='bwr')\n",
    "plt.xticks([])\n",
    "plt.yticks([])\n",
    "plt.savefig(\"TaskIntersectionTPPermuteAll.png\", bbox_inches='tight')\n",
    "plt.show()\n",
    "\n",
    "\n",
    "fig = plt.figure(figsize=(8, 8))\n",
    "\n",
    "plt.pcolormesh((LKPredAllTasksMinDist-LKPredAllTasksAltMinDist), edgecolors='k', linestyle='-',linewidth=1,vmin=-0.5,vmax=0.5,cmap='bwr')\n",
    "plt.xticks([])\n",
    "plt.yticks([])\n",
    "plt.savefig(\"TaskIntersectionTPPermuteMinDist.png\", bbox_inches='tight')\n",
    "plt.show()\n",
    "\n",
    "fig = plt.figure(figsize=(8, 8))\n",
    "\n",
    "plt.pcolormesh((LKPredAllTasksTNRestrict-LKPredAllTasksTNRestrictAlt), edgecolors='k', linestyle='-',linewidth=1,vmin=-0.5,vmax=0.5,cmap='bwr')\n",
    "plt.xticks([])\n",
    "plt.yticks([])\n",
    "plt.savefig(\"TaskIntersectionPermuteTPRestrict.png\", bbox_inches='tight')\n",
    "plt.show()\n",
    "\n",
    "A=LKPredAllTasks\n",
    "B=LKPredAllTasksAlt\n",
    "print(stats.ttest_rel((A[~np.eye(A.shape[0],dtype=bool)]),((B[~np.eye(B.shape[0],dtype=bool)]))))\n",
    "\n",
    "for i in range(7):\n",
    "    print(taskNames[tasks[i]])\n",
    "    print(stats.ttest_rel(np.delete(np.arctanh(LKPredAllTasks[i,:].ravel()),i),np.delete(np.arctanh(LKPredAllTasksAlt[i,:].ravel()),i),alternative='greater'))\n",
    "    print(stats.ttest_rel(np.delete(np.arctanh(LKPredAllTasksTNRestrict[i,:].ravel()),i),np.delete(np.arctanh(LKPredAllTasksTNRestrictAlt[i,:].ravel()),i),alternative='greater'))\n",
    "    print(stats.ttest_rel(np.delete(np.arctanh(LKPredAllTasksMinDist[i,:].ravel()),i),np.delete(np.arctanh(LKPredAllTasksAltMinDist[i,:].ravel()),i),alternative='greater'))\n",
    "\n",
    "\n"
   ]
  },
  {
   "cell_type": "code",
   "execution_count": 9,
   "id": "d770c300",
   "metadata": {},
   "outputs": [],
   "source": [
    "def write_plyRGB(filename, vertices, faces, colorsR,colorsG,colorsB,comment=None):\n",
    "    import pandas as pd\n",
    "    print(\"writing ply format\")\n",
    "    # infer number of vertices and faces\n",
    "    number_vertices = vertices.shape[0]\n",
    "    number_faces = faces.shape[0]\n",
    "    # make header dataframe\n",
    "    header = ['ply',\n",
    "            'format ascii 1.0',\n",
    "            'comment %s' % comment,\n",
    "            'element vertex %i' % number_vertices,\n",
    "            'property float x',\n",
    "            'property float y',\n",
    "            'property float z',\n",
    "            'property uchar red',\n",
    "            'property uchar green',\n",
    "            'property uchar blue',\n",
    "            'element face %i' % number_faces,\n",
    "            'property list uchar int vertex_indices',\n",
    "            'end_header'\n",
    "             ]\n",
    "    header_df = pd.DataFrame(header)\n",
    "    # make dataframe from vertices\n",
    "    vertex_df = pd.DataFrame(vertices/50)\n",
    "    #colors_df = pd.DataFrame(np.tile(np.round(colors/7*255), (3,1)).T)\n",
    "    ColorsR_df=pd.DataFrame(colorsR)\n",
    "    ColorsG_df=pd.DataFrame(colorsG)\n",
    "    ColorsB_df=pd.DataFrame(colorsB)\n",
    "    colorsConcat = pd.concat([ColorsR_df,ColorsG_df,ColorsB_df], axis=1)\n",
    "    colors_df=pd.DataFrame(colorsConcat)\n",
    "    colors_df=colorsConcat.astype(int)\n",
    "    df_concat = pd.concat([vertex_df, colors_df], axis=1)\n",
    "    # make dataframe from faces, adding first row of 3s (indicating triangles)\n",
    "    triangles = np.reshape(3 * (np.ones(number_faces)), (number_faces, 1))\n",
    "    triangles = triangles.astype(int)\n",
    "    faces = faces.astype(int)\n",
    "    faces_df = pd.DataFrame(np.concatenate((triangles, faces), axis=1))\n",
    "    # write dfs to csv\n",
    "    header_df.to_csv(filename, header=None, index=False)\n",
    "    with open(filename, 'a') as f:\n",
    "        df_concat.to_csv(f, header=False, index=False,\n",
    "                         float_format='%.3f', sep=' ')\n",
    "    with open(filename, 'a') as f:\n",
    "        faces_df.to_csv(f, header=False, index=False,\n",
    "                        float_format='%.0f', sep=' ')"
   ]
  },
  {
   "cell_type": "code",
   "execution_count": 34,
   "id": "b774fc39",
   "metadata": {},
   "outputs": [
    {
     "name": "stdout",
     "output_type": "stream",
     "text": [
      "writing ply format\n"
     ]
    }
   ],
   "source": [
    "\n",
    "import  matplotlib.cm\n",
    "#cmap = matplotlib.cm.get_cmap('bwr')\n",
    "\n",
    "gifti_img_Midthickness = nb.load('S900.L.midthickness_MSMAll.32k_fs_LR.surf.gii')\n",
    "vertices=gifti_img_Midthickness.darrays[0].data\n",
    "faces=gifti_img_Midthickness.darrays[1].data\n",
    "cmap = matplotlib.cm.get_cmap('bwr')\n",
    "norm = matplotlib.colors.Normalize(vmin=-35.5, vmax=35.5)\n",
    "colors=norm(left_brain[:,0]*-1)#/7#*254+1\n",
    "CMap=cmap(colors)*255\n",
    "\n",
    "\n",
    "write_plyRGB('MRITask.ply',vertices,faces,CMap[:,0],CMap[:,1],CMap[:,2])\n",
    "\n"
   ]
  },
  {
   "cell_type": "code",
   "execution_count": 35,
   "id": "92d02ba0",
   "metadata": {},
   "outputs": [
    {
     "data": {
      "text/plain": [
       "-25.641764"
      ]
     },
     "execution_count": 35,
     "metadata": {},
     "output_type": "execute_result"
    },
    {
     "data": {
      "image/png": "[encoded data removed]",
      "text/plain": [
       "<Figure size 432x288 with 1 Axes>"
      ]
     },
     "metadata": {
      "needs_background": "light"
     },
     "output_type": "display_data"
    }
   ],
   "source": [
    "import matplotlib.pyplot as plt\n",
    "plt.hist(left_brain[:,0]*-1)\n",
    "(left_brain[:,0]*-1).min()"
   ]
  }
 ],
 "metadata": {
  "kernelspec": {
   "display_name": "Python 3 (ipykernel)",
   "language": "python",
   "name": "python3"
  },
  "language_info": {
   "codemirror_mode": {
    "name": "ipython",
    "version": 3
   },
   "file_extension": ".py",
   "mimetype": "text/x-python",
   "name": "python",
   "nbconvert_exporter": "python",
   "pygments_lexer": "ipython3",
   "version": "3.9.17"
  }
 },
 "nbformat": 4,
 "nbformat_minor": 5
}
